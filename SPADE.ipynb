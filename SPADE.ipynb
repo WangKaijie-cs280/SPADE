{
 "cells": [
  {
   "cell_type": "markdown",
   "metadata": {
    "colab_type": "text",
    "id": "view-in-github"
   },
   "source": [
    "<a href=\"https://colab.research.google.com/github/ak9250/SPADE-colab/blob/master/SPADE.ipynb\" target=\"_parent\"><img src=\"https://colab.research.google.com/assets/colab-badge.svg\" alt=\"Open In Colab\"/></a>"
   ]
  },
  {
   "cell_type": "code",
   "execution_count": 0,
   "metadata": {
    "colab": {},
    "colab_type": "code",
    "id": "49gdwxjetOI8"
   },
   "outputs": [],
   "source": [
    "!pip install -r requirements.txt"
   ]
  },
  {
   "cell_type": "code",
   "execution_count": 2,
   "metadata": {
    "colab": {},
    "colab_type": "code",
    "id": "WyvFaEZXtThT"
   },
   "outputs": [
    {
     "name": "stdout",
     "output_type": "stream",
     "text": [
      "/root/SPADE/models/networks\n"
     ]
    }
   ],
   "source": [
    "cd models/networks/"
   ]
  },
  {
   "cell_type": "code",
   "execution_count": 3,
   "metadata": {
    "colab": {},
    "colab_type": "code",
    "id": "hFMbe6CptvGY"
   },
   "outputs": [
    {
     "name": "stdout",
     "output_type": "stream",
     "text": [
      "Cloning into 'Synchronized-BatchNorm-PyTorch'...\n",
      "remote: Enumerating objects: 158, done.\u001b[K\n",
      "remote: Total 158 (delta 0), reused 0 (delta 0), pack-reused 158\u001b[K\n",
      "Receiving objects: 100% (158/158), 34.24 KiB | 22.00 KiB/s, done.\n",
      "Resolving deltas: 100% (94/94), done.\n",
      "Checking connectivity... done.\n"
     ]
    }
   ],
   "source": [
    "!git clone https://github.com/vacancy/Synchronized-BatchNorm-PyTorch"
   ]
  },
  {
   "cell_type": "code",
   "execution_count": 4,
   "metadata": {
    "colab": {},
    "colab_type": "code",
    "id": "OxZJhAlItxhq"
   },
   "outputs": [],
   "source": [
    "!cp Synchronized-BatchNorm-PyTorch/sync_batchnorm . -rf"
   ]
  },
  {
   "cell_type": "code",
   "execution_count": 5,
   "metadata": {
    "colab": {},
    "colab_type": "code",
    "id": "485NlLMpt0zH"
   },
   "outputs": [
    {
     "name": "stdout",
     "output_type": "stream",
     "text": [
      "/root/SPADE\n"
     ]
    }
   ],
   "source": [
    "cd ../../"
   ]
  },
  {
   "cell_type": "markdown",
   "metadata": {
    "colab_type": "text",
    "id": "f-unSuaIbQdi"
   },
   "source": [
    "datasets"
   ]
  },
  {
   "cell_type": "markdown",
   "metadata": {
    "colab_type": "text",
    "id": "5LHXDM-Z4UIL"
   },
   "source": [
    "COCO-stuff"
   ]
  },
  {
   "cell_type": "code",
   "execution_count": 6,
   "metadata": {
    "colab": {},
    "colab_type": "code",
    "id": "dZU1-nlveRRF"
   },
   "outputs": [
    {
     "name": "stdout",
     "output_type": "stream",
     "text": [
      "Collecting pycocotools\n",
      "\u001b[33m  WARNING: Retrying (Retry(total=4, connect=None, read=None, redirect=None, status=None)) after connection broken by 'ProxyError('Cannot connect to proxy.', timeout('timed out'))': /simple/pycocotools/\u001b[0m\n",
      "\u001b[33m  WARNING: Retrying (Retry(total=3, connect=None, read=None, redirect=None, status=None)) after connection broken by 'ProxyError('Cannot connect to proxy.', timeout('timed out'))': /simple/pycocotools/\u001b[0m\n",
      "\u001b[33m  WARNING: Retrying (Retry(total=4, connect=None, read=None, redirect=None, status=None)) after connection broken by 'ProxyError('Cannot connect to proxy.', timeout('timed out'))': /packages/96/84/9a07b1095fd8555ba3f3d519517c8743c2554a245f9476e5e39869f948d2/pycocotools-2.0.0.tar.gz\u001b[0m\n",
      "\u001b[33m  WARNING: Retrying (Retry(total=3, connect=None, read=None, redirect=None, status=None)) after connection broken by 'ProxyError('Cannot connect to proxy.', timeout('timed out'))': /packages/96/84/9a07b1095fd8555ba3f3d519517c8743c2554a245f9476e5e39869f948d2/pycocotools-2.0.0.tar.gz\u001b[0m\n",
      "\u001b[?25l  Downloading https://files.pythonhosted.org/packages/96/84/9a07b1095fd8555ba3f3d519517c8743c2554a245f9476e5e39869f948d2/pycocotools-2.0.0.tar.gz (1.5MB)\n",
      "\u001b[K     |████████████████████████████████| 1.5MB 48kB/s eta 0:00:010\n",
      "\u001b[?25hBuilding wheels for collected packages: pycocotools\n",
      "  Building wheel for pycocotools (setup.py) ... \u001b[?25ldone\n",
      "\u001b[?25h  Created wheel for pycocotools: filename=pycocotools-2.0.0-cp37-cp37m-linux_x86_64.whl size=287788 sha256=365263db1522ea04a12fc62a5b1264a49416d7a9f10f21cf3a3e1b768fad007c\n",
      "  Stored in directory: /root/.cache/pip/wheels/dc/e6/36/0e1ae88c868eb42d3f92181b1c9bbd0b217a7ec3da6bd62e55\n",
      "Successfully built pycocotools\n",
      "Installing collected packages: pycocotools\n",
      "Successfully installed pycocotools-2.0.0\n"
     ]
    }
   ],
   "source": [
    "!pip install pycocotools"
   ]
  },
  {
   "cell_type": "code",
   "execution_count": 1,
   "metadata": {
    "colab": {},
    "colab_type": "code",
    "id": "mEbi6B1qHfNL",
    "scrolled": false
   },
   "outputs": [
    {
     "name": "stdout",
     "output_type": "stream",
     "text": [
      "--2019-12-12 05:40:38--  http://images.cocodataset.org/zips/train2017.zip\n",
      "Connecting to 10.10.10.100:3128... connected.\n",
      "Proxy request sent, awaiting response... 200 OK\n",
      "Length: 19336861798 (18G) [application/zip]\n",
      "Saving to: ‘train2017.zip.1’\n",
      "\n",
      "train2017.zip.1       5%[>                   ] 953.87M  --.-KB/s    eta 37m 43s^C\n",
      "--2019-12-12 05:43:13--  http://images.cocodataset.org/zips/val2017.zip\n",
      "Connecting to 10.10.10.100:3128... connected.\n",
      "Proxy request sent, awaiting response... ^C\n",
      "--2019-12-12 05:43:37--  http://calvin.inf.ed.ac.uk/wp-content/uploads/data/cocostuffdataset/stuffthingmaps_trainval2017.zip\n",
      "Connecting to 10.10.10.100:3128... connected.\n",
      "Proxy request sent, awaiting response... 200 OK\n",
      "Length: 659008564 (628M) [application/zip]\n",
      "Saving to: ‘stuffthingmaps_trainval2017.zip’\n",
      "\n",
      "stuffthingmaps_trai 100%[===================>] 628.48M  7.76MB/s    in 1m 40s  \n",
      "\n",
      "2019-12-12 05:45:18 (6.27 MB/s) - ‘stuffthingmaps_trainval2017.zip’ saved [659008564/659008564]\n",
      "\n",
      "--2019-12-12 05:45:18--  http://images.cocodataset.org/annotations/annotations_trainval2017.zip\n",
      "Connecting to 10.10.10.100:3128... connected.\n",
      "Proxy request sent, awaiting response... 200 OK\n",
      "Length: 252907541 (241M) [application/zip]\n",
      "Saving to: ‘annotations_trainval2017.zip’\n",
      "\n",
      "annotations_trainva 100%[===================>] 241.19M  9.45MB/s    in 63s     \n",
      "\n",
      "2019-12-12 05:46:50 (3.83 MB/s) - ‘annotations_trainval2017.zip’ saved [252907541/252907541]\n",
      "\n"
     ]
    }
   ],
   "source": [
    "!wget http://images.cocodataset.org/zips/train2017.zip\n",
    "!wget http://images.cocodataset.org/zips/val2017.zip\n",
    "!wget http://calvin.inf.ed.ac.uk/wp-content/uploads/data/cocostuffdataset/stuffthingmaps_trainval2017.zip\n",
    "!wget http://images.cocodataset.org/annotations/annotations_trainval2017.zip"
   ]
  },
  {
   "cell_type": "code",
   "execution_count": 0,
   "metadata": {
    "colab": {},
    "colab_type": "code",
    "id": "jwmV1_oERLKy"
   },
   "outputs": [],
   "source": [
    "rm -r /content/SPADE/datasets/coco_stuff/*"
   ]
  },
  {
   "cell_type": "code",
   "execution_count": 0,
   "metadata": {
    "colab": {},
    "colab_type": "code",
    "id": "Guqc_LHT7fCo"
   },
   "outputs": [],
   "source": [
    "!unzip train2017.zip "
   ]
  },
  {
   "cell_type": "code",
   "execution_count": 0,
   "metadata": {
    "colab": {},
    "colab_type": "code",
    "id": "099jCByz_2Hy"
   },
   "outputs": [],
   "source": [
    "!unzip val2017.zip"
   ]
  },
  {
   "cell_type": "code",
   "execution_count": 0,
   "metadata": {
    "colab": {},
    "colab_type": "code",
    "id": "EEAQUv3bM--N"
   },
   "outputs": [],
   "source": [
    "!unzip stuffthingmaps_trainval2017.zip -d /content/SPADE/datasets/coco_stuff/"
   ]
  },
  {
   "cell_type": "code",
   "execution_count": 0,
   "metadata": {
    "colab": {},
    "colab_type": "code",
    "id": "BF_bAo_VUAO_"
   },
   "outputs": [],
   "source": [
    "cd datasets/coco_stuff/"
   ]
  },
  {
   "cell_type": "code",
   "execution_count": 0,
   "metadata": {
    "colab": {},
    "colab_type": "code",
    "id": "BdtKiXWmXPWY"
   },
   "outputs": [],
   "source": [
    "mkdir train_inst"
   ]
  },
  {
   "cell_type": "code",
   "execution_count": 0,
   "metadata": {
    "colab": {},
    "colab_type": "code",
    "id": "mbQHvuxwXTGU"
   },
   "outputs": [],
   "source": [
    "mkdir val_inst"
   ]
  },
  {
   "cell_type": "code",
   "execution_count": 0,
   "metadata": {
    "colab": {},
    "colab_type": "code",
    "id": "BdUOLbnaUdPl"
   },
   "outputs": [],
   "source": [
    "!mv train2017 train_label"
   ]
  },
  {
   "cell_type": "code",
   "execution_count": 0,
   "metadata": {
    "colab": {},
    "colab_type": "code",
    "id": "qdf0NVbAUuhm"
   },
   "outputs": [],
   "source": [
    "!mv val2017 val_label"
   ]
  },
  {
   "cell_type": "code",
   "execution_count": 0,
   "metadata": {
    "colab": {},
    "colab_type": "code",
    "id": "cskv5NfQX0-S"
   },
   "outputs": [],
   "source": [
    "!cp -a /content/SPADE/datasets/coco_stuff/train_label/. /content/SPADE/datasets/coco_stuff/train_inst/"
   ]
  },
  {
   "cell_type": "code",
   "execution_count": 0,
   "metadata": {
    "colab": {},
    "colab_type": "code",
    "id": "0c5F_mKbY5c0"
   },
   "outputs": [],
   "source": [
    "!cp -a /content/SPADE/datasets/coco_stuff/val_label/. /content/SPADE/datasets/coco_stuff/val_inst/"
   ]
  },
  {
   "cell_type": "code",
   "execution_count": 0,
   "metadata": {
    "colab": {},
    "colab_type": "code",
    "id": "YLe_ekFqVCKW"
   },
   "outputs": [],
   "source": [
    "cd .."
   ]
  },
  {
   "cell_type": "code",
   "execution_count": 0,
   "metadata": {
    "colab": {},
    "colab_type": "code",
    "id": "cXP58dl8gBvK"
   },
   "outputs": [],
   "source": [
    "cd .."
   ]
  },
  {
   "cell_type": "code",
   "execution_count": 0,
   "metadata": {
    "colab": {},
    "colab_type": "code",
    "id": "sH-lLVrPVD-p"
   },
   "outputs": [],
   "source": [
    "!mv train2017 train_img"
   ]
  },
  {
   "cell_type": "code",
   "execution_count": 0,
   "metadata": {
    "colab": {},
    "colab_type": "code",
    "id": "YzrwEr-6VNk7"
   },
   "outputs": [],
   "source": [
    "!mv val2017 val_img"
   ]
  },
  {
   "cell_type": "code",
   "execution_count": 0,
   "metadata": {
    "colab": {},
    "colab_type": "code",
    "id": "LCjLxEZvVWbK"
   },
   "outputs": [],
   "source": [
    "!mv val_img/ /content/SPADE/datasets/coco_stuff/"
   ]
  },
  {
   "cell_type": "code",
   "execution_count": 0,
   "metadata": {
    "colab": {},
    "colab_type": "code",
    "id": "7w3CPsYMVuiO"
   },
   "outputs": [],
   "source": [
    "!mv train_img/ /content/SPADE/datasets/coco_stuff/"
   ]
  },
  {
   "cell_type": "markdown",
   "metadata": {
    "colab_type": "text",
    "id": "ZXpvwTaH4V2G"
   },
   "source": [
    "ADE20K"
   ]
  },
  {
   "cell_type": "code",
   "execution_count": 0,
   "metadata": {
    "colab": {},
    "colab_type": "code",
    "id": "vtkHRPtl6dZI"
   },
   "outputs": [],
   "source": [
    "!wget http://data.csail.mit.edu/places/ADEchallenge/ADEChallengeData2016.zip"
   ]
  },
  {
   "cell_type": "code",
   "execution_count": 0,
   "metadata": {
    "colab": {},
    "colab_type": "code",
    "id": "ZhUPVxiI_6PP"
   },
   "outputs": [],
   "source": [
    "!unzip ADEChallengeData2016.zip"
   ]
  },
  {
   "cell_type": "code",
   "execution_count": 0,
   "metadata": {
    "colab": {},
    "colab_type": "code",
    "id": "8C8TMZneJKEZ"
   },
   "outputs": [],
   "source": [
    "mkdir sametrainlabel"
   ]
  },
  {
   "cell_type": "code",
   "execution_count": 0,
   "metadata": {
    "colab": {},
    "colab_type": "code",
    "id": "-NgIbS5tm-Qi"
   },
   "outputs": [],
   "source": [
    "!mv -v ADEChallengeData2016/images/validation/* sametrainlabel/"
   ]
  },
  {
   "cell_type": "code",
   "execution_count": 0,
   "metadata": {
    "colab": {},
    "colab_type": "code",
    "id": "czY8wP_Xne-a"
   },
   "outputs": [],
   "source": [
    "!mv -v ADEChallengeData2016/annotations/validation/* sametrainlabel/"
   ]
  },
  {
   "cell_type": "markdown",
   "metadata": {
    "colab_type": "text",
    "id": "ii4l_2tfoSHq"
   },
   "source": [
    "checkpoints"
   ]
  },
  {
   "cell_type": "code",
   "execution_count": 0,
   "metadata": {
    "colab": {},
    "colab_type": "code",
    "id": "eUENRuwCwCcr"
   },
   "outputs": [],
   "source": [
    "!mkdir checkpoints"
   ]
  },
  {
   "cell_type": "code",
   "execution_count": 0,
   "metadata": {
    "colab": {},
    "colab_type": "code",
    "id": "4o1ug0-Jt3PO"
   },
   "outputs": [],
   "source": [
    "cd checkpoints"
   ]
  },
  {
   "cell_type": "code",
   "execution_count": 0,
   "metadata": {
    "colab": {},
    "colab_type": "code",
    "id": "9sCxKUcPv4BA"
   },
   "outputs": [],
   "source": [
    "!gdown https://drive.google.com/uc?id=12gvlTbMvUcJewQlSEaZdeb2CdOB-b8kQ"
   ]
  },
  {
   "cell_type": "code",
   "execution_count": 0,
   "metadata": {
    "colab": {},
    "colab_type": "code",
    "id": "ke4n_bWjwOAl"
   },
   "outputs": [],
   "source": [
    "!tar xvf checkpoints.tar.gz"
   ]
  },
  {
   "cell_type": "code",
   "execution_count": 0,
   "metadata": {
    "colab": {},
    "colab_type": "code",
    "id": "0bZsOJzSwZTU"
   },
   "outputs": [],
   "source": [
    "cd ../"
   ]
  },
  {
   "cell_type": "markdown",
   "metadata": {
    "colab_type": "text",
    "id": "5OTm28embWYy"
   },
   "source": [
    "testing"
   ]
  },
  {
   "cell_type": "markdown",
   "metadata": {
    "colab_type": "text",
    "id": "8z10vOddNLta"
   },
   "source": [
    "COCO-stuff"
   ]
  },
  {
   "cell_type": "code",
   "execution_count": 0,
   "metadata": {
    "colab": {},
    "colab_type": "code",
    "id": "3S1mDYfMwfVj"
   },
   "outputs": [],
   "source": [
    "!python test.py --name coco_pretrained --dataset_mode coco --dataroot /content/SPADE/datasets/coco_stuff/"
   ]
  },
  {
   "cell_type": "markdown",
   "metadata": {
    "colab_type": "text",
    "id": "v-YLP---NNfG"
   },
   "source": [
    "ADE20K"
   ]
  },
  {
   "cell_type": "code",
   "execution_count": 0,
   "metadata": {
    "colab": {},
    "colab_type": "code",
    "id": "Z75q3j74NKol"
   },
   "outputs": [],
   "source": [
    "!python test.py --name ade20k_pretrained --dataset_mode ade20k --dataroot /content/SPADE/sametrainlabel/ "
   ]
  },
  {
   "cell_type": "markdown",
   "metadata": {
    "colab_type": "text",
    "id": "TocHDyxUqnLd"
   },
   "source": [
    "making video"
   ]
  },
  {
   "cell_type": "code",
   "execution_count": 0,
   "metadata": {
    "colab": {},
    "colab_type": "code",
    "id": "qhZAYF6cuJ_x"
   },
   "outputs": [],
   "source": [
    "cd results/ade20k_pretrained/test_latest/images/synthesized_image/"
   ]
  },
  {
   "cell_type": "code",
   "execution_count": 0,
   "metadata": {
    "colab": {},
    "colab_type": "code",
    "id": "M1FAZTzKyhTu"
   },
   "outputs": [],
   "source": [
    "!find -maxdepth 1 -type f | wc -l"
   ]
  },
  {
   "cell_type": "code",
   "execution_count": 0,
   "metadata": {
    "colab": {},
    "colab_type": "code",
    "id": "VIbYukYS-nAi"
   },
   "outputs": [],
   "source": [
    "!ffmpeg -r 10 -f image2 -pattern_type glob -i '*.png' -s 1280x720 out.mp4"
   ]
  },
  {
   "cell_type": "code",
   "execution_count": 0,
   "metadata": {
    "colab": {},
    "colab_type": "code",
    "id": "uSzI_P7Pu1ik"
   },
   "outputs": [],
   "source": [
    "!ffmpeg -i out.mp4 -pix_fmt yuv420p -vcodec libx264 -vf scale=640:-1 -acodec aac -vb 1024k -minrate 1024k -maxrate 1024k -bufsize 1024k -ar 44100  -ac 2  -strict experimental -r 10  tweet.mp4"
   ]
  },
  {
   "cell_type": "markdown",
   "metadata": {
    "colab_type": "text",
    "id": "rw6jRlErbLYn"
   },
   "source": [
    "Training"
   ]
  },
  {
   "cell_type": "code",
   "execution_count": 0,
   "metadata": {
    "colab": {},
    "colab_type": "code",
    "id": "u2Q-w9QQzlLF"
   },
   "outputs": [],
   "source": [
    "cd /"
   ]
  },
  {
   "cell_type": "code",
   "execution_count": 0,
   "metadata": {
    "colab": {},
    "colab_type": "code",
    "id": "1STi1RMnz24U"
   },
   "outputs": [],
   "source": [
    "cd content/SPADE/"
   ]
  },
  {
   "cell_type": "code",
   "execution_count": 0,
   "metadata": {
    "colab": {},
    "colab_type": "code",
    "id": "KYPn_Qj8xtQy"
   },
   "outputs": [],
   "source": [
    "!python train.py --dataset_mode coco --dataroot /content/SPADE/datasets/coco_stuff/"
   ]
  },
  {
   "cell_type": "code",
   "execution_count": 0,
   "metadata": {
    "colab": {},
    "colab_type": "code",
    "id": "ynw5NhYgzUTy"
   },
   "outputs": [],
   "source": [
    "!python train.py --dataset_mode ade20k --dataroot /content/SPADE/ADEChallengeData2016/"
   ]
  },
  {
   "cell_type": "markdown",
   "metadata": {
    "colab_type": "text",
    "id": "T5AH6aN3kJpM"
   },
   "source": [
    "training custom dataset"
   ]
  },
  {
   "cell_type": "code",
   "execution_count": 0,
   "metadata": {
    "colab": {},
    "colab_type": "code",
    "id": "lJDQNgMejwEe"
   },
   "outputs": [],
   "source": [
    "python train.py --name custom --dataset_mode custom --label_dir [path_to_labels] -- image_dir [path_to_images] --label_nc [num_labels]"
   ]
  }
 ],
 "metadata": {
  "accelerator": "GPU",
  "colab": {
   "include_colab_link": true,
   "name": "SPADE.ipynb",
   "provenance": [],
   "version": "0.3.2"
  },
  "kernelspec": {
   "display_name": "Python 3",
   "language": "python",
   "name": "python3"
  },
  "language_info": {
   "codemirror_mode": {
    "name": "ipython",
    "version": 3
   },
   "file_extension": ".py",
   "mimetype": "text/x-python",
   "name": "python",
   "nbconvert_exporter": "python",
   "pygments_lexer": "ipython3",
   "version": "3.7.4"
  }
 },
 "nbformat": 4,
 "nbformat_minor": 1
}
